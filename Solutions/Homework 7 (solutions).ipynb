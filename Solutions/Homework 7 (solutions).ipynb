{
  "nbformat": 4,
  "nbformat_minor": 0,
  "metadata": {
    "colab": {
      "provenance": []
    },
    "kernelspec": {
      "name": "python3",
      "display_name": "Python 3"
    },
    "language_info": {
      "name": "python"
    },
    "accelerator": "GPU"
  },
  "cells": [
    {
      "cell_type": "markdown",
      "metadata": {
        "id": "Ovi3rNd9BeZ4"
      },
      "source": [
        "# Homework 7\n",
        "\n",
        "In this homework, you will be using a form of attention called *attention pooling* to solve the \"addition problem\". The addition problem was introduced in the [LSTM paper](https://www.bioinf.jku.at/publications/older/2604.pdf) as a way to test whether an RNN could propagate information across many time steps. In the addition problem, the model is given a sequence of 2D vectors in the format:\n",
        "\n",
        "|     |      |     |     |      |     |      |     |     |     |     |\n",
        "|-----|------|-----|-----|------|-----|------|-----|-----|-----|-----|\n",
        "| 0.5 | -0.7 | 0.3 | 0.1 | -0.2 | ... | -0.5 | 0.9 | ... | 0.8 | 0.2 |\n",
        "| 0   |   0  |  1  |  0  |   0  |     |   0  |  1  |     |  0  |  0  |\n",
        "\n",
        "The first dimension of each vector in the sequence is a random number between 0 and 1. The second dimension is 0 for all entries of the sequence expect for 2, where it is 1. The goal of the addition problem is to output the sum of the values in the first dimension at the two indices where the second dimension is 1. In the example above, the target would be 0.9 + 0.3 = 1.2. Below is a code snippet which generates a sequence and its target for the addition problem."
      ]
    },
    {
      "cell_type": "code",
      "metadata": {
        "id": "r42nn-jOxhKp"
      },
      "source": [
        "import numpy as np\n",
        "import matplotlib.pyplot as plt\n",
        "def addition_problem(sequence_length=50):\n",
        "    output = np.random.uniform(-1, 1, (sequence_length, 2))\n",
        "    output[:, 0] = 0.\n",
        "    random_indices = np.random.choice(sequence_length, size=2, replace=False)\n",
        "    output[random_indices, [0, 0]] = 1\n",
        "    return output, (output[:, 0]*output[:, 1]).sum(keepdims=True)"
      ],
      "execution_count": null,
      "outputs": []
    },
    {
      "cell_type": "markdown",
      "metadata": {
        "id": "Ew0FypwYCwpn"
      },
      "source": [
        "Attention pooling is a form of attention that allows a model to solve the addition problem without using an RNN. In attention pooling, the query vector $q$ is a *learnable parameter*. The keys and values are both the input sequence. Specifically, given a sequence $\\{h_1, h_2, \\ldots, h_T\\}$, attention pooling computes\n",
        "\\begin{align}\n",
        "e_t &= \\mathrm{a}(q, h_t) \\\\\n",
        "\\alpha_t &= \\frac{\\exp(e_t)}{\\sum_k \\exp(e_k)} \\\\\n",
        "c &= \\sum_{t = 1}^T \\alpha_t h_t\n",
        "\\end{align}\n",
        "where $\\mathrm{a}(q, h_t)$ is the attention energy function. Note that c will always be a fixed-length vector (which amounts to a weighted average of the elements of the sequence $h$) regardless of how long the sequence is (i.e. the value of $T$). $\\mathrm{a}(q, h_t)$ can be any function that takes in a single entry of the sequence $h_t$ and outputs an unnormalizes scalar value. One option is to use\n",
        "$$\\mathrm{a}(q, h_t) = q^\\top \\tanh(W_a h_t + b_a)$$\n",
        "where $q \\in \\mathbb{R}^q$, $W_a \\in \\mathbb{R}^{q \\times d}$, and $b_a \\in \\mathbb{R}^q$ are learnable parameters, and $d$ is the dimensionality of $h_t$ (i.e. $h_t \\in \\mathbb{R}^d$).\n",
        "\n",
        "\n",
        "1. Build and train a neural network that uses attention pooling to solve the addition problem. The model should output a scalar which corresponds to the target value for the addition problem (i.e. the sum of the sequence entries that are marked with a \"1\"). Here, \"solved\" means that the squared error of the model's predicitons is always below $0.05$. Use a sequence length of $50$ (which is the default for the `addition_problem` function defined above). *Hints*:\n",
        "  1. This is a regression problem. Your model should predict a continuous scalar value and you can use a squared-error loss.\n",
        "  1. The point of the attention pooling layer is to allow you to put it in an otherwise feed-forward network. So, consider just using simple dense feed-forward layers before and/or after the attention pooling layer. To start, you can try the architecture: feed-forward, attention pooling, feed-forward, output layer.\n",
        "  1. If you are finding that the model is getting stuck at a non-zero squared error, it could be that it's just outputting the mean value and having trouble learning a good solution. Try different initialization, nonlinearities, architecture, learning rate, etc.\n",
        "1. Once you have trained a model that gets solid performance at sequence length $50$, plot the model's average squared error for sequence lengths $50, 55, 65, 80, 100, 125, 150$. You should generate this plot by averaging the squared error over at least $100$ sequences of a given length. Does the model's error get worse (go up) for longer sequences, or does it generalize to longer sequence lengths?"
      ]
    },
    {
      "cell_type": "markdown",
      "metadata": {
        "id": "j9ZfY19_KKz-"
      },
      "source": [
        "1. It's common to represent a batch of sequences as an array of shape (batch_size, sequence_length, n_features).\n",
        "2.  position-wise feedforward layer (like the ones we discussed in the Transformer) are dense layers that are applied independently to each sequence step for each sequence in the batch. Specifically, you can think of it as computing output[i, j] = dot(W, input[i, j]) + b, where input is of shape (batch_size, sequence_length, n_input) and output is of shape (batch_size, sequence_length, n_output), i indexes the batch dimension, and j indexes the sequence timestep.\n",
        "3. If your dense layer assumes that the input is of shape (batch_size, n_input), you reshape the input to (batch_size*sequence_length, n_input), feed it through the dense layer, and reshape the result back to shape (batch_size, sequence_length, n_output). This is because either way you are applying the dense layer independently to each vector in each sequence.\n",
        "4. The network architecture I suggested is something like dense -> attention pooling -> dense. You can experiment with different network architectures.\n",
        "5. The point of the attention pooling is to transform an input from shape (batch_size, sequence_length, n_features) to (batch_size, n_features). This is done by taking a (weighted) average over the sequence length dimension. Once you perform this transformation, you get a single vector for each input example in the batch, regardless of the sequence length. This allows you to compute a single loss for each example in the batch.\n",
        "\n"
      ]
    },
    {
      "cell_type": "code",
      "metadata": {
        "id": "KXAr0ehuD56o"
      },
      "source": [
        "import torch\n",
        "from torch.autograd import Variable\n",
        "import torch.nn.functional as F\n",
        "import torch.utils.data as Data\n",
        "\n",
        "import matplotlib.pyplot as plt\n",
        "%matplotlib inline\n",
        "import numpy as np\n",
        "\n",
        "def addition_problem(sequence_length=50):\n",
        "    output = np.random.uniform(-1, 1, (sequence_length, 2))\n",
        "    output[:, 0] = 0.\n",
        "    random_indices = np.random.choice(sequence_length, size=2, replace=False)\n",
        "    output[random_indices, [0, 0]] = 1\n",
        "    return torch.tensor(output), torch.tensor((output[:, 0]*output[:, 1]).sum(keepdims=True))\n"
      ],
      "execution_count": null,
      "outputs": []
    },
    {
      "cell_type": "code",
      "metadata": {
        "id": "-HuyoUklGVXd"
      },
      "source": [
        "def addition_with_batch(sequence_length=50): # size = 4\n",
        "  len = sequence_length\n",
        "  x1, y1 = addition_problem(len)\n",
        "  x2, y2 = addition_problem(len)\n",
        "  x3, y3 = addition_problem(len)\n",
        "  x4, y4 = addition_problem(len)\n",
        "\n",
        "  xx = torch.cat((x1,x2,x3,x4)).reshape(4, len, 2).float()\n",
        "  yy = torch.cat((y1,y2,y3,y4)).reshape(4, 1).float()\n",
        "  return xx, yy\n",
        "x, y = addition_with_batch(50)"
      ],
      "execution_count": null,
      "outputs": []
    },
    {
      "cell_type": "code",
      "metadata": {
        "id": "3RE_kEuOEBj-"
      },
      "source": [
        "# this is one way to define a network\n",
        "class Net(torch.nn.Module):\n",
        "    def __init__(self, d, q, n_hidden, n_output): # d = 2, q = 10, 10 ,1\n",
        "        super(Net, self).__init__()\n",
        "        self.d = d\n",
        "        self.q = q\n",
        "        self.n_hidden = n_hidden\n",
        "        self.hidden1 = torch.nn.Linear(d,n_hidden)\n",
        "        self.w = torch.nn.Linear(n_hidden,q)\n",
        "        self.query = torch.nn.Parameter(torch.zeros(q,1))\n",
        "        #self.register_parameter(name='query', param=torch.nn.Parameter(torch.zeros(q,1)))\n",
        "        self.tanh = torch.nn.Tanh()\n",
        "        self.hidden2 = torch.nn.Linear(d, n_hidden)   # hidden layer\n",
        "        self.predict = torch.nn.Linear(n_hidden, n_output)   # output layer\n",
        "\n",
        "    def forward(self, x,):\n",
        "        keys = x\n",
        "        values = x\n",
        "\n",
        "        # hidden 1\n",
        "        x = x.reshape(-1,self.d)\n",
        "        x = F.relu(self.hidden1(x))      # activation function for hidden layer\n",
        "        x = x.reshape(4,-1,self.n_hidden)\n",
        "\n",
        "        # attention\n",
        "        x = x.reshape(-1,self.n_hidden)\n",
        "        x = self.w(x)\n",
        "        x = self.tanh(x)\n",
        "        x = torch.matmul(x,self.query)\n",
        "        x = x.reshape(4,-1)\n",
        "        x = torch.nn.functional.softmax(x,dim = 1) # 4*50\n",
        "        x = x.reshape(4,1,-1) # 4*1*50\n",
        "        # value's size is 4*50*2\n",
        "        x = torch.bmm(x,values).reshape(4,2)\n",
        "\n",
        "        # hidden 2\n",
        "        x = F.relu(self.hidden2(x))      # activation function for hidden layer\n",
        "        x = self.predict(x)             # linear output\n",
        "        return x\n"
      ],
      "execution_count": null,
      "outputs": []
    },
    {
      "cell_type": "code",
      "metadata": {
        "id": "tBvvQYfOEGQr",
        "colab": {
          "base_uri": "https://localhost:8080/"
        },
        "outputId": "865e68af-99d1-4384-d06d-2c5601c4b3fc"
      },
      "source": [
        "net = Net(d=2, q=10, n_hidden=10, n_output=1)     # define the network\n",
        "print(net)  # net architecture\n",
        "optimizer = torch.optim.Adam(net.parameters(), lr=0.01)\n",
        "loss_func = torch.nn.MSELoss()  # this is for regression mean squared loss"
      ],
      "execution_count": null,
      "outputs": [
        {
          "output_type": "stream",
          "text": [
            "Net(\n",
            "  (hidden1): Linear(in_features=2, out_features=10, bias=True)\n",
            "  (w): Linear(in_features=10, out_features=10, bias=True)\n",
            "  (tanh): Tanh()\n",
            "  (hidden2): Linear(in_features=2, out_features=10, bias=True)\n",
            "  (predict): Linear(in_features=10, out_features=1, bias=True)\n",
            ")\n"
          ],
          "name": "stdout"
        }
      ]
    },
    {
      "cell_type": "code",
      "metadata": {
        "colab": {
          "base_uri": "https://localhost:8080/"
        },
        "id": "6WXwNM72-mIp",
        "outputId": "cc366d9f-a1b7-46ac-e4ce-69082e846c57"
      },
      "source": [
        "prediction = net(x)     # input x and predict based on x\n",
        "\n",
        "loss = loss_func(prediction, y)     # must be (1. nn output, 2. target)\n",
        "loss"
      ],
      "execution_count": null,
      "outputs": [
        {
          "output_type": "execute_result",
          "data": {
            "text/plain": [
              "tensor(1.2809, grad_fn=<MseLossBackward>)"
            ]
          },
          "metadata": {
            "tags": []
          },
          "execution_count": 238
        }
      ]
    },
    {
      "cell_type": "code",
      "metadata": {
        "colab": {
          "base_uri": "https://localhost:8080/"
        },
        "id": "v6TDbfZ7CBLI",
        "outputId": "798e67fb-53f4-4ce8-8211-d74154237f67"
      },
      "source": [
        "# train the network\n",
        "for t in range(2000):\n",
        "    x, y = addition_with_batch()\n",
        "    prediction = net(x)     # input x and predict based on x\n",
        "\n",
        "    loss = loss_func(prediction, y)     # must be (1. nn output, 2. target)\n",
        "\n",
        "    optimizer.zero_grad()   # clear gradients for next train\n",
        "    loss.backward()         # backpropagation, compute gradients\n",
        "    optimizer.step()        # apply gradients\n",
        "    if(t%200 == 0):\n",
        "      print(loss)"
      ],
      "execution_count": null,
      "outputs": [
        {
          "output_type": "stream",
          "text": [
            "tensor(0.0609, grad_fn=<MseLossBackward>)\n",
            "tensor(0.0004, grad_fn=<MseLossBackward>)\n",
            "tensor(7.6854e-05, grad_fn=<MseLossBackward>)\n",
            "tensor(3.5542e-05, grad_fn=<MseLossBackward>)\n",
            "tensor(1.5260e-05, grad_fn=<MseLossBackward>)\n",
            "tensor(3.1213e-06, grad_fn=<MseLossBackward>)\n",
            "tensor(2.2107e-06, grad_fn=<MseLossBackward>)\n",
            "tensor(2.2950e-06, grad_fn=<MseLossBackward>)\n",
            "tensor(3.9795e-06, grad_fn=<MseLossBackward>)\n",
            "tensor(1.4647e-06, grad_fn=<MseLossBackward>)\n"
          ],
          "name": "stdout"
        }
      ]
    },
    {
      "cell_type": "code",
      "metadata": {
        "id": "Y4xoQZfxDUpR",
        "colab": {
          "base_uri": "https://localhost:8080/"
        },
        "outputId": "9db4cd45-9b02-4b4e-de26-46efd47da2f4"
      },
      "source": [
        "x, y = addition_with_batch()\n",
        "prediction = net(x.float())\n",
        "print(y)\n",
        "print(prediction)"
      ],
      "execution_count": null,
      "outputs": [
        {
          "output_type": "stream",
          "text": [
            "tensor([[ 1.3133],\n",
            "        [-1.6394],\n",
            "        [ 0.6015],\n",
            "        [-0.7667]])\n",
            "tensor([[ 1.3139],\n",
            "        [-1.6392],\n",
            "        [ 0.5988],\n",
            "        [-0.7665]], grad_fn=<AddmmBackward>)\n"
          ],
          "name": "stdout"
        }
      ]
    },
    {
      "cell_type": "markdown",
      "metadata": {
        "id": "l-wF_wQpoLLG"
      },
      "source": [
        "Once you have trained a model that gets solid performance at sequence length  50 , plot the model's average squared error for sequence lengths  50,55,65,80,100,125,150 . You should generate this plot by averaging the squared error over at least  100  sequences of a given length. Does the model's error get worse (go up) for longer sequences, or does it generalize to longer sequence lengths?\n"
      ]
    },
    {
      "cell_type": "code",
      "metadata": {
        "id": "gEQRF1FQoW-h"
      },
      "source": [
        "def compute_loss(net,sequence_len,batch_num): # num is num_batch * 4\n",
        "  total_loss = 0\n",
        "  for i in np.arange(batch_num):\n",
        "    x,y = addition_with_batch(sequence_len)\n",
        "    prediction = net(x)\n",
        "    loss = loss_func(prediction, y)\n",
        "    total_loss = total_loss + loss\n",
        "  return total_loss / batch_num\n",
        "\n"
      ],
      "execution_count": null,
      "outputs": []
    },
    {
      "cell_type": "code",
      "metadata": {
        "colab": {
          "base_uri": "https://localhost:8080/",
          "height": 293
        },
        "id": "G4r9WGBOr3IW",
        "outputId": "4a735315-2d00-4f81-e2ed-8a01d057a4e3"
      },
      "source": [
        "x_axis = [50,55,65,80,100,125,150]\n",
        "y_axis = []\n",
        "for i in x_axis:\n",
        "  y_axis.append(compute_loss(net,i,100))\n",
        "plt.plot(x_axis,y_axis)"
      ],
      "execution_count": null,
      "outputs": [
        {
          "output_type": "execute_result",
          "data": {
            "text/plain": [
              "[<matplotlib.lines.Line2D at 0x7f2c581f17d0>]"
            ]
          },
          "metadata": {
            "tags": []
          },
          "execution_count": 242
        },
        {
          "output_type": "display_data",
          "data": {
            "image/png": "[encoded data removed]",
            "text/plain": [
              "<Figure size 432x288 with 1 Axes>"
            ]
          },
          "metadata": {
            "tags": [],
            "needs_background": "light"
          }
        }
      ]
    },
    {
      "cell_type": "code",
      "metadata": {
        "id": "dMsa_HxYu8rG"
      },
      "source": [
        "# In this case, the model's error gets larger as the sequence length gets larger,\n",
        "# but it's also possible to train a model that generalizes well to longer sequences."
      ],
      "execution_count": null,
      "outputs": []
    }
  ]
}