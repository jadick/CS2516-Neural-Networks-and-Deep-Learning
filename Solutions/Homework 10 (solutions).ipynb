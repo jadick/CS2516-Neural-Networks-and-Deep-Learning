{
  "nbformat": 4,
  "nbformat_minor": 0,
  "metadata": {
    "colab": {
      "provenance": []
    },
    "kernelspec": {
      "name": "python3",
      "display_name": "Python 3"
    },
    "language_info": {
      "name": "python"
    }
  },
  "cells": [
    {
      "cell_type": "markdown",
      "metadata": {
        "id": "dblxHufQ5xYu"
      },
      "source": [
        "# Problem 1 (2 points)\n",
        "\n",
        "Recall that for the original GAN, the discriminator $f_\\phi(x)$ is trained with the following optimization:\n",
        "\n",
        "$$\\max_\\phi p(x) \\log [f_\\phi(x)] + q_\\theta(x) \\log [1 - f_\\phi(x)]$$\n",
        "\n",
        "where $p(x)$ is the true data distribution, $q_\\theta(x)$ is the generator's learned distribution, and $f_\\phi(x) \\in [0, 1]$.\n",
        "\n",
        "1. Assuming $q_\\theta(x)$ is fixed, what is the solution to this optimization problem? \"Solution\" here means the function $f_\\phi(x)$ that maximizes the above objective. Your expression should be in terms of $p(x)$ and $q_\\theta(x)$.\n",
        "1. Assume that $q_\\theta(x) = p(x)$, i.e. the generator has learned to fit the data distribution perfectly. What is the optimal discriminator in this case?"
      ]
    },
    {
      "cell_type": "markdown",
      "source": [
        "1. The objective has the form $a \\log(y) +b \\log(1−y)$, where $a = p(x)$, $b = q_\\theta(x)$, and $y = f_\\phi(x)$. Differentiating with respect to $y$ and setting to zero gives\n",
        "\\begin{align}\n",
        "0 &= \\frac{a}{y} - \\frac{b}{1 - y} \\\\\n",
        "0 &= \\frac{a(1 - y) - by}{y(1 - y)} \\\\\n",
        "0 &= a - ay - by \\\\\n",
        "y(a + b) &= a \\\\\n",
        "y &= \\frac{a}{a + b} \\\\\n",
        "\\end{align}\n",
        "The second derivative is $-a/y^2 - b/(1 - y)^2$. $a$, $b$, and $y$ are all non-negative, so this second derivative is always negative. So, $y = \\frac{a}{a - b}$ is the maximum. Substituting back in, we have $f_\\theta(x) = \\frac{p(x)}{p(x) + q_\\theta(x)}$.\n",
        "\n",
        "1. Plugging in $q_\\theta(x) = p(x)$ we have $f_\\theta(x) = 1/2$."
      ],
      "metadata": {
        "id": "x8tUis91jsF1"
      }
    },
    {
      "cell_type": "markdown",
      "metadata": {
        "id": "VkS2UbfP_-J4"
      },
      "source": [
        "# Problem 2 (1 point)\n",
        "\n",
        "Recall that the forward process for the Diffusion model is defined as\n",
        "\n",
        "$$q(x_t | x_{t - 1}) = \\mathop{\\mathcal{N}}\\left(x_t; \\sqrt{1 - \\beta_t} x_{t - 1}, \\beta_t I\\right)$$\n",
        "\n",
        "Let $\\bar{a}_t = \\prod_{s = 1}^t (1 - \\beta_s)$. Show that\n",
        "\n",
        "$$q(x_t | x_0) = \\mathop{\\mathcal{N}}\\left(x_t; \\sqrt{\\bar{a}_t} x_0, (1 - \\bar{a})_t I\\right)$$"
      ]
    },
    {
      "cell_type": "markdown",
      "source": [
        "Let $a_t = 1 - \\beta_t$. Then we can equivalently express $x_t$ as\n",
        "\\begin{align*}\n",
        "x_t = \\sqrt{a_t}x_{t - 1} + \\sqrt{1 - a_t}\\epsilon\n",
        "\\end{align*}\n",
        "where, whenever I use $\\epsilon$, you can assume $\\epsilon \\sim \\mathcal{N}(0, I)$.\n",
        "Then we have\n",
        "\\begin{align*}\n",
        "\\sqrt{a_t}x_{t - 1} + \\sqrt{1 - a_t}\\epsilon = \\sqrt{a_t a_{t - 1}}x_{t - 2} + \\sqrt{1 - a_ta_{t - 1}}\\epsilon\n",
        "\\end{align*}\n",
        "because the sum of two Gaussian-distributed random variables with zero mean and variance $(1 - a_t)$ and $a_t(1 - a_{t - 1})$ (respectively) has variance $(1 - a_t) + a_t(1 - a_{t - 1}) = 1 - a_ta_{t - 1}$. Continuing on in this way and using the definition of $\\bar{a}$ from above, we have $x_t = \\sqrt{\\bar{a}_t}x_0 + \\sqrt{1 - \\bar{a}_t}\\epsilon$, which implies that\n",
        "$$q(x_t | x_0) = \\mathop{\\mathcal{N}}\\left(x_t; \\sqrt{\\bar{a}_t} x_0, (1 - \\bar{a})_t I\\right)$$"
      ],
      "metadata": {
        "id": "koAVWyJ2ZiyS"
      }
    },
    {
      "cell_type": "markdown",
      "source": [
        "# Problem 3 (2 points)\n",
        "\n",
        "Recall that, when training a VAE, we maximize the following objective:\n",
        "\n",
        "$$\\mathbb{E}_{z \\sim q_\\phi (z | x)} \\log [p_\\theta(x | z)] - \\mathop{\\text{KL}}(q_\\phi(z | x) || p(z))$$\n",
        "\n",
        "1. Show that this objective is equal to $\\log p(x) - \\mathop{\\text{KL}}(q_\\phi(z | x) || p(z | x))$ when the likelihood $p(x | z)$ is parameterized as $p_\\theta(x | z)$ and explain why it is therefore less than or equal to $\\log p(x)$.\n",
        "1. Assume that $q(z)$ is a univariate Gaussian with mean $\\mu = 0$ and standard deviation $\\sigma \\in \\mathbb{R}$ and p(z) is a standard (zero-mean unit-variance) Gaussian. Derive a closed-form expression for $\\mathop{\\text{KL}}(q(z) || p(z))$ and plot it with respect to $\\sigma$."
      ],
      "metadata": {
        "id": "vpue6NgGiKEd"
      }
    },
    {
      "cell_type": "markdown",
      "source": [
        "1. By definition, $\\mathop{\\text{KL}}(q_\\phi(z | x) || p(z | x)) = \\mathbb{E}_q \\log q_\\phi(z | x) - \\mathbb{E}_q \\log p(z | x)$. By Bayes' rule, we have $p(z | x) = p(x | z)p(z)/p(x)$, so $\\mathbb{E}_q \\log p(z | x) = \\mathbb{E}_q\\log p(x | z) + \\mathbb{E}_q \\log p(z) - \\mathbb{E}_q \\log p(x)$. Plugging in, we have\n",
        "\\begin{align*}\n",
        "\\log p(x) - \\mathop{\\text{KL}}(q_\\phi(z | x) || p(z | x)) &= \\log p(x) - \\mathbb{E}_q \\log q_\\phi(z | x) + \\mathbb{E}_q\\log p(x | z) + \\mathbb{E}_q \\log p(z) - \\mathbb{E}_q \\log p(x) \\\\\n",
        "&= - \\mathbb{E}_q \\log q_\\phi(z | x) + \\mathbb{E}_q\\log p(x | z) + \\mathbb{E}_q \\log p(z) \\\\\n",
        "&= \\mathbb{E}_q \\log p_\\theta(x | z) - \\mathop{\\text{KL}}(q_\\phi(z | x) || p(z))\n",
        "\\end{align*}\n",
        "This is less than or equal to $\\log p(x)$ because $\\mathop{\\text{KL}}(\\cdot) \\ge 0$.\n",
        "2. Under this form of $q(z)$ and $p(z)$, the KL term becomes $\\frac{1}{2} (1 + \\log (\\sigma^2) - \\sigma^2)$. A plot is below."
      ],
      "metadata": {
        "id": "tykH-XRikFag"
      }
    },
    {
      "cell_type": "code",
      "source": [
        "import numpy as np\n",
        "import matplotlib.pyplot as plt\n",
        "%matplotlib inline\n",
        "\n",
        "sigma = np.linspace(0.01, 3, 100)\n",
        "kl = 0.5*(1 + np.log(sigma**2) - sigma**2)\n",
        "plt.plot(sigma, kl)"
      ],
      "metadata": {
        "colab": {
          "base_uri": "https://localhost:8080/",
          "height": 448
        },
        "id": "jVWXYirKBZ-U",
        "outputId": "252397ce-d5ca-4080-d6f0-fb0d19cea92b"
      },
      "execution_count": null,
      "outputs": [
        {
          "output_type": "execute_result",
          "data": {
            "text/plain": [
              "[<matplotlib.lines.Line2D at 0x787e10ebfb50>]"
            ]
          },
          "metadata": {},
          "execution_count": 4
        },
        {
          "output_type": "display_data",
          "data": {
            "text/plain": [
              "<Figure size 640x480 with 1 Axes>"
            ],
            "image/png": "[encoded data removed]"
          },
          "metadata": {}
        }
      ]
    }
  ]
}